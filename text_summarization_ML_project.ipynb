{
  "nbformat": 4,
  "nbformat_minor": 0,
  "metadata": {
    "colab": {
      "provenance": []
    },
    "kernelspec": {
      "name": "python3",
      "display_name": "Python 3"
    },
    "language_info": {
      "name": "python"
    }
  },
  "cells": [
    {
      "cell_type": "code",
      "execution_count": null,
      "metadata": {
        "id": "Oo-gaCFKXjs4"
      },
      "outputs": [],
      "source": [
        "text = \"\"\"The first time I saw Chloe was at one of those refined cocktail parties given by the department of surgery. She was a concealed voluptuary in an astonishingly tailored black silk jacket and skirt. Personally, I find overly exposed body parts a turn off, since I think pleasures are greatest in anticipation.  Beneath super sheer stockings, I could see that her legs were slender and strong. She wore a chic pair of black suede high heels that reminded me of those little night birds who flit flirtatiously in front of your car lights. I followed those sexy shoes with my eyes, almost spilling my very dry martini.\n",
        "\n",
        "“Nice shoes,” I said, when I was really thinking ‘nice legs’.\n",
        "\n",
        "Chloe looked at me evenly with a touch of doubt in her eyes. It was obviously not a pick up line she had heard before.\n",
        "\n",
        "“You like my shoes?” she said complacently bored.\n",
        "\n",
        "“Yes, I, I, I know it is odd but I have a thing about shoes.” I sometimes stutter when I’m nervous. Her eyes narrowed and I began to worry that she was taking me for a pervert.\n",
        "\n",
        "“Oh, I, I, I don’t have a foot fetish or anything like that. I just love good leather. I appreciate stylish shoes on a woman.” I was glad that I had worn my Magli shoes to the party. It lent credence to my little speech.\n",
        "\n",
        "“Really,” she emphasized the word, “I bought these in Italy last summer. I have to admit I have a weakness for shoes. I must have a hundred pairs in my closet.”\n",
        "\n",
        "“Imelda, may I get you something to drink?” I asked.\n",
        "\n",
        "“Merlot,” she said, “Thanks.”\"\"\""
      ]
    },
    {
      "cell_type": "code",
      "source": [
        "len(text)"
      ],
      "metadata": {
        "colab": {
          "base_uri": "https://localhost:8080/"
        },
        "id": "vrVfyE5dX-7e",
        "outputId": "3a947636-f2b0-4e79-b6b7-11ed4efc7547"
      },
      "execution_count": null,
      "outputs": [
        {
          "output_type": "execute_result",
          "data": {
            "text/plain": [
              "1494"
            ]
          },
          "metadata": {},
          "execution_count": 13
        }
      ]
    },
    {
      "cell_type": "code",
      "source": [
        "import spacy\n",
        "from spacy.lang.en.stop_words import STOP_WORDS\n",
        "from string import punctuation"
      ],
      "metadata": {
        "id": "6kRhgTKfgROI"
      },
      "execution_count": null,
      "outputs": []
    },
    {
      "cell_type": "code",
      "source": [
        "nlp = spacy.load(\"en_core_web_sm\")\n"
      ],
      "metadata": {
        "id": "nS59_kfDhj2M"
      },
      "execution_count": null,
      "outputs": []
    },
    {
      "cell_type": "code",
      "source": [
        "doc = nlp(text)"
      ],
      "metadata": {
        "id": "vlwrOmZOh0jP"
      },
      "execution_count": null,
      "outputs": []
    },
    {
      "cell_type": "code",
      "source": [
        "tokens = [token.text for token in doc]\n",
        "print(tokens)"
      ],
      "metadata": {
        "colab": {
          "base_uri": "https://localhost:8080/"
        },
        "id": "nH7-hQe0h_yd",
        "outputId": "d1d36afa-38ae-4510-ec89-e885cae3a34e"
      },
      "execution_count": null,
      "outputs": [
        {
          "output_type": "stream",
          "name": "stdout",
          "text": [
            "['The', 'first', 'time', 'I', 'saw', 'Chloe', 'was', 'at', 'one', 'of', 'those', 'refined', 'cocktail', 'parties', 'given', 'by', 'the', 'department', 'of', 'surgery', '.', 'She', 'was', 'a', 'concealed', 'voluptuary', 'in', 'an', 'astonishingly', 'tailored', 'black', 'silk', 'jacket', 'and', 'skirt', '.', 'Personally', ',', 'I', 'find', 'overly', 'exposed', 'body', 'parts', 'a', 'turn', 'off', ',', 'since', 'I', 'think', 'pleasures', 'are', 'greatest', 'in', 'anticipation', '.', ' ', 'Beneath', 'super', 'sheer', 'stockings', ',', 'I', 'could', 'see', 'that', 'her', 'legs', 'were', 'slender', 'and', 'strong', '.', 'She', 'wore', 'a', 'chic', 'pair', 'of', 'black', 'suede', 'high', 'heels', 'that', 'reminded', 'me', 'of', 'those', 'little', 'night', 'birds', 'who', 'flit', 'flirtatiously', 'in', 'front', 'of', 'your', 'car', 'lights', '.', 'I', 'followed', 'those', 'sexy', 'shoes', 'with', 'my', 'eyes', ',', 'almost', 'spilling', 'my', 'very', 'dry', 'martini', '.', '\\n\\n', '“', 'Nice', 'shoes', ',', '”', 'I', 'said', ',', 'when', 'I', 'was', 'really', 'thinking', '‘', 'nice', 'legs', '’', '.', '\\n\\n', 'Chloe', 'looked', 'at', 'me', 'evenly', 'with', 'a', 'touch', 'of', 'doubt', 'in', 'her', 'eyes', '.', 'It', 'was', 'obviously', 'not', 'a', 'pick', 'up', 'line', 'she', 'had', 'heard', 'before', '.', '\\n\\n', '“', 'You', 'like', 'my', 'shoes', '?', '”', 'she', 'said', 'complacently', 'bored', '.', '\\n\\n', '“', 'Yes', ',', 'I', ',', 'I', ',', 'I', 'know', 'it', 'is', 'odd', 'but', 'I', 'have', 'a', 'thing', 'about', 'shoes', '.', '”', 'I', 'sometimes', 'stutter', 'when', 'I', '’m', 'nervous', '.', 'Her', 'eyes', 'narrowed', 'and', 'I', 'began', 'to', 'worry', 'that', 'she', 'was', 'taking', 'me', 'for', 'a', 'pervert', '.', '\\n\\n', '“', 'Oh', ',', 'I', ',', 'I', ',', 'I', 'do', 'n’t', 'have', 'a', 'foot', 'fetish', 'or', 'anything', 'like', 'that', '.', 'I', 'just', 'love', 'good', 'leather', '.', 'I', 'appreciate', 'stylish', 'shoes', 'on', 'a', 'woman', '.', '”', 'I', 'was', 'glad', 'that', 'I', 'had', 'worn', 'my', 'Magli', 'shoes', 'to', 'the', 'party', '.', 'It', 'lent', 'credence', 'to', 'my', 'little', 'speech', '.', '\\n\\n', '“', 'Really', ',', '”', 'she', 'emphasized', 'the', 'word', ',', '“', 'I', 'bought', 'these', 'in', 'Italy', 'last', 'summer', '.', 'I', 'have', 'to', 'admit', 'I', 'have', 'a', 'weakness', 'for', 'shoes', '.', 'I', 'must', 'have', 'a', 'hundred', 'pairs', 'in', 'my', 'closet', '.', '”', '\\n\\n', '“', 'Imelda', ',', 'may', 'I', 'get', 'you', 'something', 'to', 'drink', '?', '”', 'I', 'asked', '.', '\\n\\n', '“', 'Merlot', ',', '”', 'she', 'said', ',', '“', 'Thanks', '.', '”']\n"
          ]
        }
      ]
    },
    {
      "cell_type": "code",
      "source": [
        "punctuation = punctuation + \"\\n\""
      ],
      "metadata": {
        "id": "u8pHnJROiJJ7"
      },
      "execution_count": null,
      "outputs": []
    },
    {
      "cell_type": "code",
      "source": [
        "punctuation"
      ],
      "metadata": {
        "colab": {
          "base_uri": "https://localhost:8080/",
          "height": 36
        },
        "id": "vjADVmzSiTWi",
        "outputId": "26f179bd-3a75-490e-c896-dba833f95c31"
      },
      "execution_count": null,
      "outputs": [
        {
          "output_type": "execute_result",
          "data": {
            "text/plain": [
              "'!\"#$%&\\'()*+,-./:;<=>?@[\\\\]^_`{|}~\\n\\n'"
            ],
            "application/vnd.google.colaboratory.intrinsic+json": {
              "type": "string"
            }
          },
          "metadata": {},
          "execution_count": 38
        }
      ]
    },
    {
      "cell_type": "code",
      "source": [
        "word_freq = {}\n",
        "\n",
        "stop_words = list(STOP_WORDS)\n",
        "for word in doc:\n",
        "  if word.text.lower() not in stop_words:\n",
        "    if word.text.lower() not in punctuation:\n",
        "      if word.text not in word_freq.keys():\n",
        "        word_freq[word.text] = 1\n",
        "      else:\n",
        "        word_freq[word.text] += 1\n",
        "print (word_freq)"
      ],
      "metadata": {
        "colab": {
          "base_uri": "https://localhost:8080/"
        },
        "id": "b93LMwPGicWG",
        "outputId": "8dff3e26-92d9-4c17-a6cb-2b07b90274c3"
      },
      "execution_count": null,
      "outputs": [
        {
          "output_type": "stream",
          "name": "stdout",
          "text": [
            "{'time': 1, 'saw': 1, 'Chloe': 2, 'refined': 1, 'cocktail': 1, 'parties': 1, 'given': 1, 'department': 1, 'surgery': 1, 'concealed': 1, 'voluptuary': 1, 'astonishingly': 1, 'tailored': 1, 'black': 2, 'silk': 1, 'jacket': 1, 'skirt': 1, 'Personally': 1, 'find': 1, 'overly': 1, 'exposed': 1, 'body': 1, 'parts': 1, 'turn': 1, 'think': 1, 'pleasures': 1, 'greatest': 1, 'anticipation': 1, ' ': 1, 'Beneath': 1, 'super': 1, 'sheer': 1, 'stockings': 1, 'legs': 2, 'slender': 1, 'strong': 1, 'wore': 1, 'chic': 1, 'pair': 1, 'suede': 1, 'high': 1, 'heels': 1, 'reminded': 1, 'little': 2, 'night': 1, 'birds': 1, 'flit': 1, 'flirtatiously': 1, 'car': 1, 'lights': 1, 'followed': 1, 'sexy': 1, 'shoes': 7, 'eyes': 3, 'spilling': 1, 'dry': 1, 'martini': 1, '“': 9, 'Nice': 1, '”': 9, 'said': 3, 'thinking': 1, '‘': 1, 'nice': 1, '’': 1, 'looked': 1, 'evenly': 1, 'touch': 1, 'doubt': 1, 'obviously': 1, 'pick': 1, 'line': 1, 'heard': 1, 'like': 2, 'complacently': 1, 'bored': 1, 'Yes': 1, 'know': 1, 'odd': 1, 'thing': 1, 'stutter': 1, 'nervous': 1, 'narrowed': 1, 'began': 1, 'worry': 1, 'taking': 1, 'pervert': 1, 'Oh': 1, 'foot': 1, 'fetish': 1, 'love': 1, 'good': 1, 'leather': 1, 'appreciate': 1, 'stylish': 1, 'woman': 1, 'glad': 1, 'worn': 1, 'Magli': 1, 'party': 1, 'lent': 1, 'credence': 1, 'speech': 1, 'emphasized': 1, 'word': 1, 'bought': 1, 'Italy': 1, 'summer': 1, 'admit': 1, 'weakness': 1, 'pairs': 1, 'closet': 1, 'Imelda': 1, 'drink': 1, 'asked': 1, 'Merlot': 1, 'Thanks': 1}\n"
          ]
        }
      ]
    },
    {
      "cell_type": "code",
      "source": [
        "max_freq = max(word_freq.values())"
      ],
      "metadata": {
        "id": "DrLqZP51jIea"
      },
      "execution_count": null,
      "outputs": []
    },
    {
      "cell_type": "code",
      "source": [
        "for word in word_freq.keys():\n",
        "  word_freq[word] = word_freq[word] / max_freq\n"
      ],
      "metadata": {
        "id": "w61PMffgmTlj"
      },
      "execution_count": null,
      "outputs": []
    },
    {
      "cell_type": "code",
      "source": [
        "print(word_freq)"
      ],
      "metadata": {
        "colab": {
          "base_uri": "https://localhost:8080/"
        },
        "id": "jyuvYC1Omb3x",
        "outputId": "e0516da1-dad3-4a17-f728-bb978f5e78c7"
      },
      "execution_count": null,
      "outputs": [
        {
          "output_type": "stream",
          "name": "stdout",
          "text": [
            "{'time': 0.012345679012345678, 'saw': 0.012345679012345678, 'Chloe': 0.024691358024691357, 'refined': 0.012345679012345678, 'cocktail': 0.012345679012345678, 'parties': 0.012345679012345678, 'given': 0.012345679012345678, 'department': 0.012345679012345678, 'surgery': 0.012345679012345678, 'concealed': 0.012345679012345678, 'voluptuary': 0.012345679012345678, 'astonishingly': 0.012345679012345678, 'tailored': 0.012345679012345678, 'black': 0.024691358024691357, 'silk': 0.012345679012345678, 'jacket': 0.012345679012345678, 'skirt': 0.012345679012345678, 'Personally': 0.012345679012345678, 'find': 0.012345679012345678, 'overly': 0.012345679012345678, 'exposed': 0.012345679012345678, 'body': 0.012345679012345678, 'parts': 0.012345679012345678, 'turn': 0.012345679012345678, 'think': 0.012345679012345678, 'pleasures': 0.012345679012345678, 'greatest': 0.012345679012345678, 'anticipation': 0.012345679012345678, ' ': 0.012345679012345678, 'Beneath': 0.012345679012345678, 'super': 0.012345679012345678, 'sheer': 0.012345679012345678, 'stockings': 0.012345679012345678, 'legs': 0.024691358024691357, 'slender': 0.012345679012345678, 'strong': 0.012345679012345678, 'wore': 0.012345679012345678, 'chic': 0.012345679012345678, 'pair': 0.012345679012345678, 'suede': 0.012345679012345678, 'high': 0.012345679012345678, 'heels': 0.012345679012345678, 'reminded': 0.012345679012345678, 'little': 0.024691358024691357, 'night': 0.012345679012345678, 'birds': 0.012345679012345678, 'flit': 0.012345679012345678, 'flirtatiously': 0.012345679012345678, 'car': 0.012345679012345678, 'lights': 0.012345679012345678, 'followed': 0.012345679012345678, 'sexy': 0.012345679012345678, 'shoes': 0.08641975308641975, 'eyes': 0.037037037037037035, 'spilling': 0.012345679012345678, 'dry': 0.012345679012345678, 'martini': 0.012345679012345678, '“': 0.1111111111111111, 'Nice': 0.012345679012345678, '”': 0.1111111111111111, 'said': 0.037037037037037035, 'thinking': 0.012345679012345678, '‘': 0.012345679012345678, 'nice': 0.012345679012345678, '’': 0.012345679012345678, 'looked': 0.012345679012345678, 'evenly': 0.012345679012345678, 'touch': 0.012345679012345678, 'doubt': 0.012345679012345678, 'obviously': 0.012345679012345678, 'pick': 0.012345679012345678, 'line': 0.012345679012345678, 'heard': 0.012345679012345678, 'like': 0.024691358024691357, 'complacently': 0.012345679012345678, 'bored': 0.012345679012345678, 'Yes': 0.012345679012345678, 'know': 0.012345679012345678, 'odd': 0.012345679012345678, 'thing': 0.012345679012345678, 'stutter': 0.012345679012345678, 'nervous': 0.012345679012345678, 'narrowed': 0.012345679012345678, 'began': 0.012345679012345678, 'worry': 0.012345679012345678, 'taking': 0.012345679012345678, 'pervert': 0.012345679012345678, 'Oh': 0.012345679012345678, 'foot': 0.012345679012345678, 'fetish': 0.012345679012345678, 'love': 0.012345679012345678, 'good': 0.012345679012345678, 'leather': 0.012345679012345678, 'appreciate': 0.012345679012345678, 'stylish': 0.012345679012345678, 'woman': 0.012345679012345678, 'glad': 0.012345679012345678, 'worn': 0.012345679012345678, 'Magli': 0.012345679012345678, 'party': 0.012345679012345678, 'lent': 0.012345679012345678, 'credence': 0.012345679012345678, 'speech': 0.012345679012345678, 'emphasized': 0.012345679012345678, 'word': 0.012345679012345678, 'bought': 0.012345679012345678, 'Italy': 0.012345679012345678, 'summer': 0.012345679012345678, 'admit': 0.012345679012345678, 'weakness': 0.012345679012345678, 'pairs': 0.012345679012345678, 'closet': 0.012345679012345678, 'Imelda': 0.012345679012345678, 'drink': 0.012345679012345678, 'asked': 0.012345679012345678, 'Merlot': 0.012345679012345678, 'Thanks': 0.012345679012345678}\n"
          ]
        }
      ]
    },
    {
      "cell_type": "code",
      "source": [
        "sent_tokens = [sent for sent in doc.sents]\n",
        "print(sent_tokens)"
      ],
      "metadata": {
        "colab": {
          "base_uri": "https://localhost:8080/"
        },
        "id": "-W7iIld_mzF6",
        "outputId": "fe924a10-3a86-463e-d1c8-0adf8b334d2b"
      },
      "execution_count": null,
      "outputs": [
        {
          "output_type": "stream",
          "name": "stdout",
          "text": [
            "[The first time I saw Chloe was at one of those refined cocktail parties given by the department of surgery., She was a concealed voluptuary in an astonishingly tailored black silk jacket and skirt., Personally, I find overly exposed body parts a turn off, since I think pleasures are greatest in anticipation.  , Beneath super sheer stockings, I could see that her legs were slender and strong., She wore a chic pair of black suede high heels that reminded me of those little night birds who flit flirtatiously in front of your car lights., I followed those sexy shoes with my eyes, almost spilling my very dry martini.\n",
            "\n",
            ", “Nice shoes,” I said, when I was really thinking ‘nice legs’.\n",
            "\n",
            ", Chloe looked at me evenly with a touch of doubt in her eyes., It was obviously not a pick up line she had heard before.\n",
            "\n",
            ", “You like my shoes?”, she said complacently bored.\n",
            "\n",
            ", “Yes, I, I, I know it is odd but I have a thing about shoes.”, I sometimes stutter when I’m nervous., Her eyes narrowed and I began to worry that she was taking me for a pervert.\n",
            "\n",
            ", “Oh, I, I, I don’t have a foot fetish or anything like that., I just love good leather., I appreciate stylish shoes on a woman.”, I was glad that I had worn my Magli shoes to the party., It lent credence to my little speech.\n",
            "\n",
            ", “Really,” she emphasized the word, “I bought these in Italy last summer., I have to admit I have a weakness for shoes., I must have a hundred pairs in my closet.”\n",
            "\n",
            ", “Imelda, may I get you something to drink?”, I asked.\n",
            "\n",
            ", “Merlot,” she said, “Thanks.”]\n"
          ]
        }
      ]
    },
    {
      "cell_type": "code",
      "source": [
        "sent_score = {}"
      ],
      "metadata": {
        "id": "w4ptoFnvnZap"
      },
      "execution_count": null,
      "outputs": []
    },
    {
      "cell_type": "code",
      "source": [
        "for sent in sent_tokens:\n",
        "  for word in sent:\n",
        "    if word.text.lower() in word_freq.keys():\n",
        "      if sent not in sent_score.keys():\n",
        "        sent_score[sent] = word_freq[word.text.lower()]\n",
        "      else:\n",
        "        sent_score[sent] += word_freq[word.text.lower()]\n"
      ],
      "metadata": {
        "id": "zb6OJacGnezV"
      },
      "execution_count": null,
      "outputs": []
    },
    {
      "cell_type": "code",
      "source": [
        "print(sent_score)"
      ],
      "metadata": {
        "colab": {
          "base_uri": "https://localhost:8080/"
        },
        "id": "8eKUj1stnpUF",
        "outputId": "e0e5bb8a-024d-4963-f8be-afa0792bd665"
      },
      "execution_count": null,
      "outputs": [
        {
          "output_type": "stream",
          "name": "stdout",
          "text": [
            "{The first time I saw Chloe was at one of those refined cocktail parties given by the department of surgery.: 0.09876543209876543, She was a concealed voluptuary in an astonishingly tailored black silk jacket and skirt.: 0.1111111111111111, Personally, I find overly exposed body parts a turn off, since I think pleasures are greatest in anticipation.  : 0.13580246913580246, Beneath super sheer stockings, I could see that her legs were slender and strong.: 0.08641975308641975, She wore a chic pair of black suede high heels that reminded me of those little night birds who flit flirtatiously in front of your car lights.: 0.20987654320987653, I followed those sexy shoes with my eyes, almost spilling my very dry martini.\n",
            "\n",
            ": 0.18518518518518517, “Nice shoes,” I said, when I was really thinking ‘nice legs’.\n",
            "\n",
            ": 0.43209876543209874, Chloe looked at me evenly with a touch of doubt in her eyes.: 0.08641975308641975, It was obviously not a pick up line she had heard before.\n",
            "\n",
            ": 0.04938271604938271, “You like my shoes?”: 0.3333333333333333, she said complacently bored.\n",
            "\n",
            ": 0.06172839506172839, “Yes, I, I, I know it is odd but I have a thing about shoes.”: 0.345679012345679, I sometimes stutter when I’m nervous.: 0.024691358024691357, Her eyes narrowed and I began to worry that she was taking me for a pervert.\n",
            "\n",
            ": 0.09876543209876543, “Oh, I, I, I don’t have a foot fetish or anything like that.: 0.16049382716049382, I just love good leather.: 0.037037037037037035, I appreciate stylish shoes on a woman.”: 0.2345679012345679, I was glad that I had worn my Magli shoes to the party.: 0.12345679012345678, It lent credence to my little speech.\n",
            "\n",
            ": 0.06172839506172839, “Really,” she emphasized the word, “I bought these in Italy last summer.: 0.38271604938271603, I have to admit I have a weakness for shoes.: 0.1111111111111111, I must have a hundred pairs in my closet.”\n",
            "\n",
            ": 0.13580246913580246, “Imelda, may I get you something to drink?”: 0.2345679012345679, I asked.\n",
            "\n",
            ": 0.012345679012345678, “Merlot,” she said, “Thanks.”: 0.48148148148148145}\n"
          ]
        }
      ]
    },
    {
      "cell_type": "code",
      "source": [
        "from heapq import nlargest"
      ],
      "metadata": {
        "id": "LQzXFJ7coVhd"
      },
      "execution_count": null,
      "outputs": []
    },
    {
      "cell_type": "code",
      "source": [
        "len(sent_score) * 0.3"
      ],
      "metadata": {
        "colab": {
          "base_uri": "https://localhost:8080/"
        },
        "id": "emIayyEookRj",
        "outputId": "fb433d30-01c0-4cb6-db2b-2b7975633303"
      },
      "execution_count": null,
      "outputs": [
        {
          "output_type": "execute_result",
          "data": {
            "text/plain": [
              "7.5"
            ]
          },
          "metadata": {},
          "execution_count": 56
        }
      ]
    },
    {
      "cell_type": "code",
      "source": [],
      "metadata": {
        "id": "3pQ1cr3vonOc"
      },
      "execution_count": null,
      "outputs": []
    },
    {
      "cell_type": "code",
      "source": [
        "summary = nlargest(n = 8, iterable = sent_score, key = sent_score.get)"
      ],
      "metadata": {
        "id": "gywEX59Rot-N"
      },
      "execution_count": null,
      "outputs": []
    },
    {
      "cell_type": "code",
      "source": [
        "print(summary)"
      ],
      "metadata": {
        "colab": {
          "base_uri": "https://localhost:8080/"
        },
        "id": "JAGA3ZKlpCos",
        "outputId": "7c910793-fd3c-4005-c3c6-a19da81c1019"
      },
      "execution_count": null,
      "outputs": [
        {
          "output_type": "stream",
          "name": "stdout",
          "text": [
            "[“Merlot,” she said, “Thanks.”, “Nice shoes,” I said, when I was really thinking ‘nice legs’.\n",
            "\n",
            ", “Really,” she emphasized the word, “I bought these in Italy last summer., “Yes, I, I, I know it is odd but I have a thing about shoes.”, “You like my shoes?”, I appreciate stylish shoes on a woman.”, “Imelda, may I get you something to drink?”, She wore a chic pair of black suede high heels that reminded me of those little night birds who flit flirtatiously in front of your car lights.]\n"
          ]
        }
      ]
    },
    {
      "cell_type": "code",
      "source": [
        "final_summary = [word.text for word in summary]"
      ],
      "metadata": {
        "id": "xmLVrkjmpGbX"
      },
      "execution_count": null,
      "outputs": []
    },
    {
      "cell_type": "code",
      "source": [
        "print(final_summary)"
      ],
      "metadata": {
        "colab": {
          "base_uri": "https://localhost:8080/"
        },
        "id": "-_ZAfHUQptI4",
        "outputId": "8b85957e-2e2e-423d-d4c9-c80bf05e8592"
      },
      "execution_count": null,
      "outputs": [
        {
          "output_type": "stream",
          "name": "stdout",
          "text": [
            "['“Merlot,” she said, “Thanks.”', '“Nice shoes,” I said, when I was really thinking ‘nice legs’.\\n\\n', '“Really,” she emphasized the word, “I bought these in Italy last summer.', '“Yes, I, I, I know it is odd but I have a thing about shoes.”', '“You like my shoes?”', 'I appreciate stylish shoes on a woman.”', '“Imelda, may I get you something to drink?”', 'She wore a chic pair of black suede high heels that reminded me of those little night birds who flit flirtatiously in front of your car lights.']\n"
          ]
        }
      ]
    },
    {
      "cell_type": "code",
      "source": [
        "summary = \" \".join(final_summary)"
      ],
      "metadata": {
        "id": "ONGAGA5xp5yI"
      },
      "execution_count": null,
      "outputs": []
    },
    {
      "cell_type": "code",
      "source": [
        "print(summary)"
      ],
      "metadata": {
        "colab": {
          "base_uri": "https://localhost:8080/"
        },
        "id": "5K3Ob1X9qB6R",
        "outputId": "b3047e3e-0768-4e18-fa80-11d6df91e4c2"
      },
      "execution_count": null,
      "outputs": [
        {
          "output_type": "stream",
          "name": "stdout",
          "text": [
            "“Merlot,” she said, “Thanks.” “Nice shoes,” I said, when I was really thinking ‘nice legs’.\n",
            "\n",
            " “Really,” she emphasized the word, “I bought these in Italy last summer. “Yes, I, I, I know it is odd but I have a thing about shoes.” “You like my shoes?” I appreciate stylish shoes on a woman.” “Imelda, may I get you something to drink?” She wore a chic pair of black suede high heels that reminded me of those little night birds who flit flirtatiously in front of your car lights.\n"
          ]
        }
      ]
    },
    {
      "cell_type": "code",
      "source": [
        "len(summary)"
      ],
      "metadata": {
        "colab": {
          "base_uri": "https://localhost:8080/"
        },
        "id": "sYX8Bbs_qDcj",
        "outputId": "d1d0d25a-edad-410c-e5d2-815a3a476860"
      },
      "execution_count": null,
      "outputs": [
        {
          "output_type": "execute_result",
          "data": {
            "text/plain": [
              "477"
            ]
          },
          "metadata": {},
          "execution_count": 91
        }
      ]
    },
    {
      "cell_type": "code",
      "source": [
        "len(summary) / len(text)"
      ],
      "metadata": {
        "colab": {
          "base_uri": "https://localhost:8080/"
        },
        "id": "18qPeOdaqFWT",
        "outputId": "9635654c-dadd-47ef-bcec-ec3490b59f9d"
      },
      "execution_count": null,
      "outputs": [
        {
          "output_type": "execute_result",
          "data": {
            "text/plain": [
              "0.3192771084337349"
            ]
          },
          "metadata": {},
          "execution_count": 92
        }
      ]
    },
    {
      "cell_type": "code",
      "source": [],
      "metadata": {
        "id": "jC9K04izqPdL"
      },
      "execution_count": null,
      "outputs": []
    }
  ]
}